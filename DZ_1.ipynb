{
 "cells": [
  {
   "cell_type": "code",
   "execution_count": 2,
   "metadata": {},
   "outputs": [],
   "source": [
    "#Загружаем библиотеку numpy\n",
    "import numpy as np"
   ]
  },
  {
   "cell_type": "code",
   "execution_count": 22,
   "metadata": {},
   "outputs": [
    {
     "data": {
      "text/plain": [
       "array([9, 8, 7, 6, 5, 4, 3, 2, 1, 0])"
      ]
     },
     "execution_count": 22,
     "metadata": {},
     "output_type": "execute_result"
    }
   ],
   "source": [
    "#ЗАДАНИЕ 1\n",
    "\n",
    "#Cоздать numpy array с элементами от числа N до 0 (не включая число N)\n",
    "N = 10\n",
    "np.arange(N - 1, -1, -1)"
   ]
  },
  {
   "cell_type": "code",
   "execution_count": 28,
   "metadata": {},
   "outputs": [
    {
     "data": {
      "text/plain": [
       "45"
      ]
     },
     "execution_count": 28,
     "metadata": {},
     "output_type": "execute_result"
    }
   ],
   "source": [
    "#ЗАДАНИЕ 2\n",
    "\n",
    "#Создать диагональную матрицу с элементами от N до 0 (не включая число N)\n",
    "N = 10\n",
    "matrix = np.diag(np.arange(N - 1, -1, -1), k=0)\n",
    "#Сумма значений по диагонали\n",
    "sum(np.diagonal(matrix))"
   ]
  },
  {
   "cell_type": "code",
   "execution_count": 7,
   "metadata": {},
   "outputs": [
    {
     "name": "stdout",
     "output_type": "stream",
     "text": [
      "x = 0.4666666666666668\n",
      "y = 3.844444444444444\n",
      "z = -5.555555555555555\n"
     ]
    }
   ],
   "source": [
    "#ЗАДАНИЕ 3\n",
    "\n",
    "\"\"\"\n",
    "Решите систему уравнений:\n",
    "4x + 2y + z = 4\n",
    "x + 3y = 12\n",
    "5y + 4z = -3\n",
    "\"\"\"\n",
    "\n",
    "#Импорт библиотеки для работы с линейной алгеброй\n",
    "from numpy import linalg\n",
    "\n",
    "#Коэффициенты при переменных в левой части уравнения\n",
    "a = np.array([[4, 2, 1], [1, 3, 0], [0, 5, 4]])\n",
    "#Значения в правой части уравнения\n",
    "b = np.array([4, 12, -3])\n",
    "\n",
    "#Решаем в матричном виде\n",
    "solve = linalg.solve(a, b)\n",
    "print(f'x = {solve[0]}\\ny = {solve[1]}\\nz = {solve[2]}')"
   ]
  },
  {
   "cell_type": "code",
   "execution_count": 67,
   "metadata": {},
   "outputs": [
    {
     "name": "stdout",
     "output_type": "stream",
     "text": [
      "Самый похожий пользователь user_id = 8, косинусное сходство 0.9486832980505138\n"
     ]
    }
   ],
   "source": [
    "#ЗАДАНИЕ 4\n",
    "\n",
    "#Матрица покупок в интернет-магазине\n",
    "users_stats = np.array(\n",
    "    [\n",
    "        [2, 1, 0, 0, 0, 0],\n",
    "        [1, 1, 2, 1, 0, 0],\n",
    "        [2, 0, 1, 0, 0, 0],\n",
    "        [1, 1, 2, 1, 0, 1],\n",
    "        [0, 0, 1, 2, 0, 0],\n",
    "        [0, 0, 0, 0, 0, 5],\n",
    "        [1, 0, 0, 0, 0, 0],\n",
    "        [0, 1, 1, 0, 0, 0],\n",
    "        [0, 0, 0, 1, 1, 3],\n",
    "        [1, 0, 0, 2, 1, 4]\n",
    "    ], \n",
    "    np.int32\n",
    ")\n",
    "\n",
    "#На сайт заходит очередной посетитель, о покупках которого известно следующее:\n",
    "next_user_stats = np.array([0, 1, 2, 0, 0, 0])\n",
    "#Модуль вектора next_user_stats\n",
    "next_user_stats_module = np.sqrt((next_user_stats * next_user_stats).sum())\n",
    "\n",
    "#Словарь результатов расчёта косинусного сходства\n",
    "result = {}\n",
    "user_id = 1\n",
    "\n",
    "#Сравниваем нового пользователя с уже имеющимися в базе путём перебора строк\n",
    "for user in users_stats:\n",
    "    #Расчитываем косинус угла между векторами и записываем в словарь под соответствующим user_id\n",
    "    user_stats_module = np.sqrt((user * user).sum())\n",
    "    result[user_id] = np.dot(user, next_user_stats) / (next_user_stats_module * user_stats_module)\n",
    "    user_id += 1\n",
    "\n",
    "#Находим максимальное значение в словаре и выводим соответсвующий user_id \n",
    "near_user = max(result.items(), key = lambda item: item[1])\n",
    "print(f'Самый похожий пользователь user_id = {near_user[0]}, косинусное сходство {near_user[1]}')"
   ]
  }
 ],
 "metadata": {
  "kernelspec": {
   "display_name": "Python 3",
   "language": "python",
   "name": "python3"
  },
  "language_info": {
   "codemirror_mode": {
    "name": "ipython",
    "version": 3
   },
   "file_extension": ".py",
   "mimetype": "text/x-python",
   "name": "python",
   "nbconvert_exporter": "python",
   "pygments_lexer": "ipython3",
   "version": "3.8.5"
  }
 },
 "nbformat": 4,
 "nbformat_minor": 4
}
